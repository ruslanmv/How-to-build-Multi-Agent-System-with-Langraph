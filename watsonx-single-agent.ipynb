{
 "cells": [
  {
   "cell_type": "markdown",
   "metadata": {},
   "source": [
    "# Single System with Langraph System with WatsonX"
   ]
  },
  {
   "cell_type": "markdown",
   "metadata": {},
   "source": [
    "Hello everyone today we are going to learn how o build a Single Agent System with Langraph with WatsonX\n",
    "We'll start with a basic chatbot introducing key LangGraph concepts along the way.\n",
    "\n",
    "## Setup\n",
    "\n",
    "First, install the required packages:"
   ]
  },
  {
   "cell_type": "code",
   "execution_count": null,
   "metadata": {},
   "outputs": [],
   "source": [
    "%%capture --no-stderr\n",
    "%pip install -U langgraph langsmith\n",
    "\n",
    "# Used for this tutorial; not a requirement for LangGraph\n",
    "%pip install -U langchain_anthropic\n",
    "\n",
    "# Used for install IBM WatsonX\n",
    "%pip install python-dotenv  ibm_watson_machine_learning\n",
    "%pip install \"ibm-watsonx-ai\" \n",
    "%pip install \"pydantic>=1.10.0\" \n",
    "%pip install \"langchain>=0.1.52\"\n",
    "%pip install \"langchain_ibm>=0.1.7\"\n"
   ]
  },
  {
   "cell_type": "markdown",
   "metadata": {},
   "source": [
    "Then we setup our API keys:"
   ]
  },
  {
   "cell_type": "code",
   "execution_count": 1,
   "metadata": {},
   "outputs": [],
   "source": [
    "import os\n",
    "from dotenv import load_dotenv\n",
    "import getpass\n",
    "def _set_env(var: str):\n",
    "    load_dotenv()  # Load environment variables from .env file\n",
    "    env_var = os.getenv(var)\n",
    "    if not env_var:\n",
    "        env_var = getpass.getpass(f\"{var}: \")\n",
    "        os.environ[var] = env_var\n",
    "    return env_var\n",
    "\n",
    "api_key = _set_env(\"WATSONX_API_KEY\")\n",
    "project_id = _set_env(\"PROJECT_ID\")\n",
    "url = \"https://us-south.ml.cloud.ibm.com\"\n"
   ]
  },
  {
   "cell_type": "markdown",
   "metadata": {},
   "source": [
    "(Encouraged) [LangSmith](https://smith.langchain.com/) makes it a lot easier to see what's going on \"under the hood.\""
   ]
  },
  {
   "cell_type": "code",
   "execution_count": 2,
   "metadata": {},
   "outputs": [],
   "source": [
    "_set_env(\"LANGSMITH_API_KEY\")\n",
    "os.environ[\"LANGCHAIN_TRACING_V2\"] = \"true\"\n",
    "os.environ[\"LANGCHAIN_PROJECT\"] = \"LangGraph Tutorial\""
   ]
  },
  {
   "cell_type": "markdown",
   "metadata": {},
   "source": [
    "## Part 1: Basic Chatbot with WatsonX and LangGraph\n",
    "Let's create a simple chatbot using LangGraph with WatsonX. This chatbot will respond directly to user messages.\n",
    "\n",
    "**What is LangGraph?**\n",
    "LangGraph is a powerful tool that helps us build complex systems, like chatbots, by connecting different pieces of code together. Think of it like a flowchart, where each step builds on the previous one.\n",
    "\n",
    "**Creating a StateGraph**\n",
    "We'll start by creating a `StateGraph`. A `StateGraph` object defines the structure of our chatbot as a \"state machine\". This means we can think of our chatbot as a series of states, and we'll define how it transitions between these states.\n",
    "\n",
    "**Adding Nodes and Edges**\n",
    "We'll add `nodes` to represent the different functions our chatbot can perform, like responding to user messages. We'll also add `edges` to specify how the bot should transition between these functions.\n",
    "\n",
    "Here's the code that sets up the LangGraph State:"
   ]
  },
  {
   "cell_type": "code",
   "execution_count": 3,
   "metadata": {},
   "outputs": [],
   "source": [
    "from typing import Annotated\n",
    "from typing_extensions import TypedDict\n",
    "from langgraph.graph import StateGraph\n",
    "from langgraph.graph.message import add_messages\n",
    "\n",
    "class State(TypedDict):\n",
    "    messages: Annotated[list, add_messages]\n",
    "\n",
    "graph_builder = StateGraph(State)\n"
   ]
  },
  {
   "cell_type": "markdown",
   "metadata": {},
   "source": [
    "**Understanding the Code**\n",
    "Let's break down what's happening in this code:\n",
    "\n",
    "* We've defined our `State` as a special type of dictionary called a `TypedDict`. This dictionary has a single key: `messages`.\n",
    "* The `messages` key is special because we're telling LangGraph how to update it. We're using a function called `add_messages` to say, \"Hey, when we add new messages, append them to the existing list instead of overwriting it.\"\n",
    "* Now our graph knows two important things:\n",
    "\t1. Every `node` we define will receive the current `State` as input and return a value that updates that state.\n",
    "\t2. `messages` will be appended to the current list, rather than directly overwritten.\n",
    "\n",
    "**Next Steps**\n",
    "Next, we'll add a \"chatbot\" node. Nodes represent individual tasks or functions, and they're typically regular Python functions. We'll explore this in more detail in the next section."
   ]
  },
  {
   "cell_type": "markdown",
   "metadata": {},
   "source": [
    "**Foundation Models on WatsonX.ai**\n",
    "\n",
    "WatsonX.ai provides a range of foundation models that can be used for various natural language processing tasks. These models are trained on large datasets and can be fine-tuned for specific tasks.\n",
    "\n",
    "**List of Available Models**\n",
    "\n",
    "The available models on WatsonX.ai are listed under the `ModelTypes` class. Here's how you can print the list of available models:"
   ]
  },
  {
   "cell_type": "code",
   "execution_count": 4,
   "metadata": {},
   "outputs": [
    {
     "name": "stdout",
     "output_type": "stream",
     "text": [
      "['FLAN_T5_XXL', 'FLAN_UL2', 'MT0_XXL', 'GPT_NEOX', 'MPT_7B_INSTRUCT2', 'STARCODER', 'LLAMA_2_70B_CHAT', 'LLAMA_2_13B_CHAT', 'GRANITE_13B_INSTRUCT', 'GRANITE_13B_CHAT', 'FLAN_T5_XL', 'GRANITE_13B_CHAT_V2', 'GRANITE_13B_INSTRUCT_V2', 'ELYZA_JAPANESE_LLAMA_2_7B_INSTRUCT', 'MIXTRAL_8X7B_INSTRUCT_V01_Q', 'CODELLAMA_34B_INSTRUCT_HF', 'GRANITE_20B_MULTILINGUAL']\n"
     ]
    }
   ],
   "source": [
    "from ibm_watsonx_ai.foundation_models.utils.enums import ModelTypes\n",
    "\n",
    "print([model.name for model in ModelTypes])"
   ]
  },
  {
   "cell_type": "markdown",
   "metadata": {},
   "source": [
    "This will output a list of available models, including `FLAN_T5_XXL`, `FLAN_UL2`, `MT0_XXL`, and more.\n",
    "\n",
    "**Choosing a Model**\n",
    "\n",
    "For this example, let's choose the `ibm/granite-13b-instruct-v2` model.\n",
    "\n",
    "**Defining the Model Parameters**\n",
    "\n",
    "We need to define the model parameters for the `ibm/granite-13b-instruct-v2` model. We can do this using the `GenTextParamsMetaNames` class."
   ]
  },
  {
   "cell_type": "code",
   "execution_count": 8,
   "metadata": {},
   "outputs": [],
   "source": [
    "from ibm_watsonx_ai.metanames import GenTextParamsMetaNames as GenParams\n",
    "from ibm_watsonx_ai.foundation_models.utils.enums import DecodingMethods\n",
    "\n",
    "parameters = {\n",
    "    GenParams.DECODING_METHOD: DecodingMethods.SAMPLE.value,\n",
    "    GenParams.MAX_NEW_TOKENS: 500,\n",
    "    GenParams.MIN_NEW_TOKENS: 50,\n",
    "    GenParams.TEMPERATURE: 0.7,\n",
    "    GenParams.TOP_K: 50,\n",
    "    GenParams.TOP_P: 1\n",
    "}\n"
   ]
  },
  {
   "cell_type": "markdown",
   "metadata": {},
   "source": [
    "\n",
    "**Initializing the WatsonXLLM Class**\n",
    "\n",
    "Next, we need to initialize the `WatsonxLLM` class, which is a wrapper around the WatsonX.ai models that provides LangChain integration."
   ]
  },
  {
   "cell_type": "code",
   "execution_count": 9,
   "metadata": {},
   "outputs": [],
   "source": [
    "from langchain_ibm import WatsonxLLM\n",
    "model_id = \"ibm/granite-13b-instruct-v2\"\n",
    "llm = WatsonxLLM(\n",
    "    model_id=model_id,\n",
    "    url=url,\n",
    "    apikey=api_key,\n",
    "    project_id=project_id,\n",
    "    params=parameters\n",
    ")"
   ]
  },
  {
   "cell_type": "code",
   "execution_count": 10,
   "metadata": {},
   "outputs": [
    {
     "name": "stdout",
     "output_type": "stream",
     "text": [
      "Man's best friend is his dog. Dogs are man's best friend because they are always there for you, they never judge you, and they love you unconditionally. Dogs are also great companions and can help reduce stress levels. icing on the cake, they are just so cute! \n"
     ]
    }
   ],
   "source": [
    "print(llm.invoke(\"Who is man's best friend?\"))"
   ]
  },
  {
   "cell_type": "markdown",
   "metadata": {},
   "source": [
    "\n",
    "**Creating the Chatbot Node**\n",
    "\n",
    "Now that we have the `WatsonxLLM` object, we can create a chatbot node that uses this model to respond to user input."
   ]
  },
  {
   "cell_type": "code",
   "execution_count": 11,
   "metadata": {},
   "outputs": [],
   "source": [
    "def chatbot(state: State):\n",
    "    return {\"messages\": [llm.invoke(state[\"messages\"])]}"
   ]
  },
  {
   "cell_type": "code",
   "execution_count": 12,
   "metadata": {},
   "outputs": [],
   "source": [
    "graph_builder.add_node(\"chatbot\", chatbot)"
   ]
  },
  {
   "cell_type": "markdown",
   "metadata": {},
   "source": [
    "\n",
    "This code defines a `chatbot` function that takes the current `State` as input and returns an updated `messages` list. \n",
    "\n",
    "The `chatbot` function uses the `llm` object to generate a response to the user's input, and returns a new `messages` list with the response appended to it.\n",
    "\n",
    " Finally, we add the `chatbot` node to our graph using the `add_node` method."
   ]
  },
  {
   "cell_type": "code",
   "execution_count": 13,
   "metadata": {},
   "outputs": [],
   "source": [
    "graph_builder.set_entry_point(\"chatbot\")"
   ]
  },
  {
   "cell_type": "markdown",
   "metadata": {},
   "source": [
    "Similarly, set a `finish` point. This instructs the graph **\"any time this node is run, you can exit.\"**"
   ]
  },
  {
   "cell_type": "code",
   "execution_count": 14,
   "metadata": {},
   "outputs": [],
   "source": [
    "graph_builder.set_finish_point(\"chatbot\")"
   ]
  },
  {
   "cell_type": "markdown",
   "metadata": {},
   "source": [
    "Finally, we'll want to be able to run our graph. To do so, call \"`compile()`\" on the graph builder. This creates a \"`CompiledGraph`\" we can use invoke on our state."
   ]
  },
  {
   "cell_type": "code",
   "execution_count": 15,
   "metadata": {},
   "outputs": [],
   "source": [
    "graph = graph_builder.compile()"
   ]
  },
  {
   "cell_type": "markdown",
   "metadata": {},
   "source": [
    "You can visualize the graph using the `get_graph` method and one of the \"draw\" methods, like `draw_ascii` or `draw_png`. The `draw` methods each require additional dependencies."
   ]
  },
  {
   "cell_type": "code",
   "execution_count": 16,
   "metadata": {},
   "outputs": [
    {
     "data": {
      "image/jpeg": "[encoded data removed]",
      "text/plain": [
       "<IPython.core.display.Image object>"
      ]
     },
     "metadata": {},
     "output_type": "display_data"
    }
   ],
   "source": [
    "from IPython.display import Image, display\n",
    "\n",
    "try:\n",
    "    display(Image(graph.get_graph().draw_mermaid_png()))\n",
    "except:\n",
    "    # This requires some extra dependencies and is optional\n",
    "    pass"
   ]
  },
  {
   "cell_type": "markdown",
   "metadata": {},
   "source": [
    "## Testig our Chatbot"
   ]
  },
  {
   "cell_type": "code",
   "execution_count": 17,
   "metadata": {},
   "outputs": [
    {
     "name": "stdout",
     "output_type": "stream",
     "text": [
      "Assistant: Chain is a class that represents a sequence of values, with an optional starting value and an optional ending value. Chain can be empty or have any length. Chain can be created by calling the constructor with no arguments, which creates an empty chain. Chain can be created by calling the constructor with two arguments, which creates a chain with the starting value at index 0 and the ending value at index 1. Chain can be created by calling the constructor with three arguments, which creates a chain with the starting value at index 0, the ending value at index 1, and the optional starting value at index 2. Chain can be created by calling the constructor with four arguments, which creates a chain with the starting value at index 0, the ending value at index 1, the optional starting value at index 2, and the optional ending value at index 3. Chain can be created by calling the constructor with five arguments, which creates a chain with the starting value at index 0, the ending value at index 1, the optional starting value at index 2, the optional ending value at index 3, and the optional starting value at index 4. Chain can be created by calling the constructor with six arguments, which creates a chain with the starting value at index 0, the ending value at index 1, the optional starting value at index 2, the optional ending value at index 3, the optional starting value at index 4, and the optional ending value at index 5. Chain can be created by calling the constructor with seven arguments, which creates a chain with the starting value at index 0, the ending value at index 1, the optional starting value at index 2, the optional ending value at index 3, the optional starting value at index 4, the optional ending value at index 5, and the optional starting value at index 6. Chain can be created by calling the constructor with eight arguments, which creates a chain with the starting value at index 0, the ending value at index 1, the optional starting value at index 2, the optional ending value at index 3, the optional starting value at index 4, the optional ending value at index 5, the optional starting value at index 6, and the optional ending value at index 7. Chain can be created by calling the constructor with nine arguments, which creates a chain with the starting value at index 0, the ending value at index 1, the optional starting value at index 2, the optional ending value at index 3, the optional starting value at index 4, the optional ending value at\n",
      "Goodbye!\n"
     ]
    }
   ],
   "source": [
    "while True:\n",
    "    user_input = input(\"User: \")\n",
    "    if user_input.lower() in [\"quit\", \"exit\", \"q\"]:\n",
    "        print(\"Goodbye!\")\n",
    "        break\n",
    "    for event in graph.stream({\"messages\": (\"user\", user_input)}):\n",
    "        for value in event.values():\n",
    "            print(\"Assistant:\", value[\"messages\"][-1])"
   ]
  },
  {
   "cell_type": "code",
   "execution_count": null,
   "metadata": {},
   "outputs": [],
   "source": []
  }
 ],
 "metadata": {
  "kernelspec": {
   "display_name": ".venv",
   "language": "python",
   "name": "python3"
  },
  "language_info": {
   "codemirror_mode": {
    "name": "ipython",
    "version": 3
   },
   "file_extension": ".py",
   "mimetype": "text/x-python",
   "name": "python",
   "nbconvert_exporter": "python",
   "pygments_lexer": "ipython3",
   "version": "3.10.11"
  }
 },
 "nbformat": 4,
 "nbformat_minor": 2
}
